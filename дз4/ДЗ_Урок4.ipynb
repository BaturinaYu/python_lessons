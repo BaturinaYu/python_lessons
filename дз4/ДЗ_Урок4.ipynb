{
 "cells": [
  {
   "cell_type": "markdown",
   "id": "1eda4f60",
   "metadata": {},
   "source": [
    "**Практическое задание к уроку 4**"
   ]
  },
  {
   "cell_type": "code",
   "execution_count": 87,
   "id": "afedfc11",
   "metadata": {},
   "outputs": [],
   "source": [
    "from pprint import pprint\n",
    "import requests\n",
    "from lxml import html\n",
    "from datetime import datetime\n",
    "from pymongo import MongoClient"
   ]
  },
  {
   "cell_type": "code",
   "execution_count": 88,
   "id": "5c3da1cd",
   "metadata": {},
   "outputs": [],
   "source": [
    "# Удаляем лишние символы из текста новости\n",
    "def clear_text(txt):\n",
    "    txt = txt.replace('\\r', '').replace('\\n', '').replace('\\xa0', '')\n",
    "    \n",
    "    return txt"
   ]
  },
  {
   "cell_type": "code",
   "execution_count": 89,
   "id": "48aacc45",
   "metadata": {},
   "outputs": [],
   "source": [
    "# Переходим по ссылке каждой новости, чтобы собрать информацию об источнике и дате публикации\n",
    "def get_source_date(headers, link):\n",
    "    resp = requests.get(link, headers=headers)\n",
    "    dom = html.fromstring(resp.text)\n",
    "    datepub = dom.xpath('//span[contains(@class,\"breadcrumbs__item\")]//*[@datetime]/@datetime')[0]\n",
    "    format_str = '%Y-%m-%dT%H:%M:%S%z'\n",
    "    datepub = datetime.strptime(str(datepub), format_str).strftime(\"%d-%m-%Y %H:%M\")\n",
    "    source = dom.xpath('//span[contains(@class,\"breadcrumbs__item\")]//*[@href]/@href')[0]\n",
    "    \n",
    "    return source, datepub"
   ]
  },
  {
   "cell_type": "code",
   "execution_count": 95,
   "id": "bd603f0a",
   "metadata": {},
   "outputs": [
    {
     "name": "stdout",
     "output_type": "stream",
     "text": [
      "{'_id': ObjectId('621ed3ed1246c7fec0ee6b37'),\n",
      " 'datepub': '01-03-2022 13:54',\n",
      " 'link': 'https://news.mail.ru/economics/50252360/',\n",
      " 'name': 'Россиянам назвали самые выгодные способы сбережения денег',\n",
      " 'source': 'http://iz.ru/'}\n",
      "{'_id': ObjectId('621ed3ee1246c7fec0ee6b38'),\n",
      " 'datepub': '01-03-2022 15:32',\n",
      " 'link': 'https://news.mail.ru/politics/50261817/',\n",
      " 'name': 'Песков назвал «гиперэмоциональной» реакцию россиян насанкции',\n",
      " 'source': 'https://www.vedomosti.ru/'}\n",
      "{'_id': ObjectId('621ed3ef1246c7fec0ee6b39'),\n",
      " 'datepub': '02-03-2022 03:33',\n",
      " 'link': 'https://news.mail.ru/politics/50270123/',\n",
      " 'name': 'Турция отказалась от санкций против России',\n",
      " 'source': 'http://www.kommersant.ru'}\n",
      "{'_id': ObjectId('621ed3f01246c7fec0ee6b3a'),\n",
      " 'datepub': '02-03-2022 01:26',\n",
      " 'link': 'https://news.mail.ru/economics/50269544/',\n",
      " 'name': 'Европа начала отказывать России вимпорте иэкспорте',\n",
      " 'source': 'http://iz.ru/'}\n",
      "{'_id': ObjectId('621ed3f11246c7fec0ee6b3b'),\n",
      " 'datepub': '01-03-2022 15:39',\n",
      " 'link': 'https://news.mail.ru/politics/50261824/',\n",
      " 'name': 'Медведев призвал министра финансов Франции «следить заречью»',\n",
      " 'source': 'http://www.ria.ru'}\n",
      "{'_id': ObjectId('621ed3f21246c7fec0ee6b3c'),\n",
      " 'datepub': '02-03-2022 00:22',\n",
      " 'link': 'https://news.mail.ru/economics/50269467/',\n",
      " 'name': 'Apple ввела ограничения дляРоссии',\n",
      " 'source': 'https://www.rbc.ru/'}\n",
      "{'_id': ObjectId('621ed3f31246c7fec0ee6b3d'),\n",
      " 'datepub': '01-03-2022 22:09',\n",
      " 'link': 'https://news.mail.ru/economics/50268191/',\n",
      " 'name': 'Компания-оператор «СП-2» подаст заявление обанкротстве',\n",
      " 'source': 'http://www.ria.ru'}\n",
      "{'_id': ObjectId('621ed3f41246c7fec0ee6b3e'),\n",
      " 'datepub': '01-03-2022 22:36',\n",
      " 'link': 'https://news.mail.ru/politics/50268383/',\n",
      " 'name': 'Путин запретил вывозить валюту в сумме более 10 тысяч долларов',\n",
      " 'source': 'http://www.ria.ru'}\n",
      "{'_id': ObjectId('621ed3f51246c7fec0ee6b3f'),\n",
      " 'datepub': '01-03-2022 20:42',\n",
      " 'link': 'https://news.mail.ru/politics/50267222/',\n",
      " 'name': 'Проект «Мракоборец» призвал объединиться для борьбы с фейками об '\n",
      "         '«Операции Z»',\n",
      " 'source': 'https://life.ru/'}\n",
      "{'_id': ObjectId('621ed3f61246c7fec0ee6b40'),\n",
      " 'datepub': '01-03-2022 20:34',\n",
      " 'link': 'https://news.mail.ru/politics/50266823/',\n",
      " 'name': 'ФОМ: уровень доверия россиян к Путину вырос с 60 до 71 процента за '\n",
      "         'неделю',\n",
      " 'source': 'http://www.ria.ru'}\n",
      "{'_id': ObjectId('621ed3f71246c7fec0ee6b41'),\n",
      " 'datepub': '01-03-2022 19:47',\n",
      " 'link': 'https://news.mail.ru/politics/50266834/',\n",
      " 'name': 'Зеленский назвал прекращение обстрелов условием для переговоров с '\n",
      "         'Россией',\n",
      " 'source': 'http://www.tass.ru/'}\n",
      "{'_id': ObjectId('621ed3f81246c7fec0ee6b42'),\n",
      " 'datepub': '01-03-2022 17:32',\n",
      " 'link': 'https://news.mail.ru/economics/50265132/',\n",
      " 'name': 'Регуляторы согласовали ограничения стоимости базовых продуктов',\n",
      " 'source': 'http://www.kommersant.ru'}\n",
      "{'_id': ObjectId('621ed3f81246c7fec0ee6b43'),\n",
      " 'datepub': '01-03-2022 16:34',\n",
      " 'link': 'https://news.mail.ru/economics/50264014/',\n",
      " 'name': 'Фридман и Авен выйдут из совета директоров Альфа-банка',\n",
      " 'source': 'http://www.tass.ru/'}\n",
      "{'_id': ObjectId('621ed3f91246c7fec0ee6b44'),\n",
      " 'datepub': '01-03-2022 16:19',\n",
      " 'link': 'https://news.mail.ru/economics/50263480/',\n",
      " 'name': 'Состояние богатейших россиян уменьшилось на 83 миллиарда долларов',\n",
      " 'source': 'http://www.ria.ru'}\n",
      "{'_id': ObjectId('621ed3fa1246c7fec0ee6b45'),\n",
      " 'datepub': '02-03-2022 00:20',\n",
      " 'link': 'https://news.mail.ru/society/45395198/',\n",
      " 'name': 'День в истории: 2 марта',\n",
      " 'source': 'https://news.mail.ru'}\n",
      "{'_id': ObjectId('621ed3fb1246c7fec0ee6b46'),\n",
      " 'datepub': '01-03-2022 21:18',\n",
      " 'link': 'https://news.mail.ru/society/50267946/',\n",
      " 'name': '«Эхо Москвы» отключили от эфира',\n",
      " 'source': 'http://www.ria.ru'}\n",
      "{'_id': ObjectId('621ed3fc1246c7fec0ee6b47'),\n",
      " 'datepub': '01-03-2022 18:52',\n",
      " 'link': 'https://news.mail.ru/society/44226108/',\n",
      " 'name': 'Фото дня',\n",
      " 'source': 'https://news.mail.ru'}\n",
      "{'_id': ObjectId('621ed3fd1246c7fec0ee6b48'),\n",
      " 'datepub': '02-03-2022 01:49',\n",
      " 'link': 'https://news.mail.ru/incident/50269768/',\n",
      " 'name': 'Мошенники придумали новую схему обмана частных инвесторов',\n",
      " 'source': 'http://iz.ru/'}\n",
      "{'_id': ObjectId('621ed3fe1246c7fec0ee6b49'),\n",
      " 'datepub': '01-03-2022 21:30',\n",
      " 'link': 'https://news.mail.ru/incident/50267197/',\n",
      " 'name': 'Хакеры Killnet взломали сайт Anonymous после атаки на страницы '\n",
      "         'российских СМИ',\n",
      " 'source': 'http://www.m24.ru'}\n",
      "{'_id': ObjectId('621ed3ff1246c7fec0ee6b4a'),\n",
      " 'datepub': '01-03-2022 21:11',\n",
      " 'link': 'https://news.mail.ru/incident/50266276/',\n",
      " 'name': 'Стало известно о взрыве у телевышки Киева',\n",
      " 'source': 'https://lenta.ru/'}\n"
     ]
    }
   ],
   "source": [
    "client = MongoClient('localhost', 27017)\n",
    "db = client['news_database']\n",
    "news_coll = db.news\n",
    "\n",
    "url = 'https://news.mail.ru'\n",
    "headers = {'User-Agent': 'Mozilla/5.0 (X11; Linux x86_64) AppleWebKit/537.36 (KHTML, like Gecko) Chrome/97.0.4692.99 Safari/537.36'}\n",
    "\n",
    "response = requests.get(url, headers=headers)\n",
    "dom = html.fromstring(response.text)\n",
    "\n",
    "fishing_items = dom.xpath(\"//li[contains(@class,'list__item')]\")\n",
    "fl = []\n",
    "for item in fishing_items:\n",
    "    fish = {}\n",
    "    name = item.xpath(\".//*[@class='list__text']//text()\")[0]\n",
    "    link = item.xpath(\".//*[@class='list__text']//@href\")[0]\n",
    "    source, datepub = get_source_date(headers, link)\n",
    "\n",
    "    fish['name'] = clear_text(name)\n",
    "    fish['link'] = link\n",
    "    fish['source'] = source\n",
    "    fish['datepub'] = datepub\n",
    "    \n",
    "    # Записываем новость в базу, только если такой ссылки ещё нет и наполняем список fl, для проверки\n",
    "    if not news_coll.find_one({'link': link}):\n",
    "        news_coll.insert_one(fish)\n",
    "        fl.append(fish)\n",
    "\n",
    "for news in news_coll.find({}):\n",
    "    pprint(news)"
   ]
  },
  {
   "cell_type": "code",
   "execution_count": 94,
   "id": "40e3f368",
   "metadata": {},
   "outputs": [
    {
     "data": {
      "text/plain": [
       "20"
      ]
     },
     "execution_count": 94,
     "metadata": {},
     "output_type": "execute_result"
    }
   ],
   "source": [
    "# Количество новостей\n",
    "len(fl)"
   ]
  }
 ],
 "metadata": {
  "kernelspec": {
   "display_name": "Python 3",
   "language": "python",
   "name": "python3"
  },
  "language_info": {
   "codemirror_mode": {
    "name": "ipython",
    "version": 3
   },
   "file_extension": ".py",
   "mimetype": "text/x-python",
   "name": "python",
   "nbconvert_exporter": "python",
   "pygments_lexer": "ipython3",
   "version": "3.8.8"
  }
 },
 "nbformat": 4,
 "nbformat_minor": 5
}
