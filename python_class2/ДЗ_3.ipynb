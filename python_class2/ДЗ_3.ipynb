{
 "cells": [
  {
   "cell_type": "code",
   "execution_count": 39,
   "id": "2dd62725",
   "metadata": {},
   "outputs": [],
   "source": [
    "import pandas as pd\n",
    "import numpy as np\n",
    "import requests\n",
    "from bs4 import BeautifulSoup\n",
    "import pprint as pp"
   ]
  },
  {
   "cell_type": "code",
   "execution_count": 40,
   "id": "b94c06a2",
   "metadata": {},
   "outputs": [],
   "source": [
    "base_url = 'https://hh.ru'\n",
    "search = '/search/vacancy'"
   ]
  },
  {
   "cell_type": "code",
   "execution_count": 41,
   "id": "52953510",
   "metadata": {},
   "outputs": [],
   "source": [
    "headers = {'User-Agent': 'Mozilla/5.0 (Windows NT 6.1; Win64; x64) AppleWebKit/537.36 (KHTML, like Gecko) Chrome/98.0.4758.102 Safari/537.36'}"
   ]
  },
  {
   "cell_type": "code",
   "execution_count": 42,
   "id": "4b4fd10f",
   "metadata": {},
   "outputs": [],
   "source": [
    "def zp(text):\n",
    "    text = text.replace('\\u202f', '')\n",
    "    text_list = text.split()\n",
    "    ot = '0'\n",
    "    do = '0'\n",
    "    if text.find('от') != -1:\n",
    "        ot = text_list[text_list.index('от')+1]\n",
    "    if text.find('до') != -1:\n",
    "        do = text_list[text_list.index('до')+1]\n",
    "    if text.find('–') != -1: \n",
    "        ot = text_list[text_list.index('–')-1]\n",
    "        do = text_list[text_list.index('–')+1]\n",
    "    val = text_list[-1]\n",
    "    \n",
    "    return ot, do, val"
   ]
  },
  {
   "cell_type": "code",
   "execution_count": 43,
   "id": "dd71bae9",
   "metadata": {},
   "outputs": [],
   "source": [
    "def get_maxpage():\n",
    "    params = {'search_field':'name', 'text':inp_vacancy, 'clusters':'true', 'ored_clusters':'true', 'enable_snippets':'true', 'customDomain': '1', 'hhtmFrom': 'vacancy_search_list'}\n",
    "    response = requests.get(base_url + search, headers = headers, params = params)\n",
    "    dom = BeautifulSoup(response.text, 'html.parser')\n",
    "    pages = dom.find_all('a', {'class':\"bloko-button\"})\n",
    "    max_page = int(pages[-2].find('span').text)\n",
    "    \n",
    "    return max_page"
   ]
  },
  {
   "cell_type": "markdown",
   "id": "8453c4c8",
   "metadata": {},
   "source": [
    "Введите вакансию:"
   ]
  },
  {
   "cell_type": "code",
   "execution_count": 44,
   "id": "3f900881",
   "metadata": {},
   "outputs": [],
   "source": [
    "inp_vacancy = 'Системный администратор'"
   ]
  },
  {
   "cell_type": "code",
   "execution_count": 45,
   "id": "3789a8f7",
   "metadata": {},
   "outputs": [],
   "source": [
    "max_page = get_maxpage()"
   ]
  },
  {
   "cell_type": "code",
   "execution_count": 46,
   "id": "82012a6f",
   "metadata": {},
   "outputs": [],
   "source": [
    "res_list = []\n",
    "for num_page in np.arange(max_page):\n",
    "    params = {'search_field':'name', 'text':inp_vacancy, 'clusters':'true', 'ored_clusters':'true', 'enable_snippets':'true', 'customDomain': '1', 'page': num_page, 'hhtmFrom': 'vacancy_search_list'}\n",
    "    response = requests.get(base_url + search, headers = headers, params = params)\n",
    "    dom = BeautifulSoup(response.text, 'html.parser')\n",
    "    conteiners = dom.find_all('div', {'class':\"vacancy-serp-item\"})\n",
    "    for vac in conteiners:\n",
    "        link_tag = vac.find('a', {'data-qa':\"vacancy-serp__vacancy-title\"}, recursive = 'False') \n",
    "        money = vac.find('span', {'data-qa': 'vacancy-serp__vacancy-compensation'})\n",
    "        if money is None:\n",
    "            res_list = np.append(res_list, [link_tag.text, link_tag['href'], None, '0', '0', None])\n",
    "        else:\n",
    "            ot, do, val = zp(money.text)\n",
    "            res_list = np.append(res_list, [link_tag.text, link_tag['href'], money.text, ot, do, val])    \n",
    "            \n",
    "result_df = pd.DataFrame(res_list.reshape((int(len(res_list)/6),6)), columns = ['Вакансия', 'Ссылка', 'Зарплата', 'От', 'До', 'Валюта'])  \n",
    "result_df[['От', 'До']] = result_df[['От', 'До']].astype(int)"
   ]
  },
  {
   "cell_type": "code",
   "execution_count": 47,
   "id": "e8c4b449",
   "metadata": {},
   "outputs": [
    {
     "data": {
      "text/html": [
       "<div>\n",
       "<style scoped>\n",
       "    .dataframe tbody tr th:only-of-type {\n",
       "        vertical-align: middle;\n",
       "    }\n",
       "\n",
       "    .dataframe tbody tr th {\n",
       "        vertical-align: top;\n",
       "    }\n",
       "\n",
       "    .dataframe thead th {\n",
       "        text-align: right;\n",
       "    }\n",
       "</style>\n",
       "<table border=\"1\" class=\"dataframe\">\n",
       "  <thead>\n",
       "    <tr style=\"text-align: right;\">\n",
       "      <th></th>\n",
       "      <th>Вакансия</th>\n",
       "      <th>Ссылка</th>\n",
       "      <th>Зарплата</th>\n",
       "      <th>От</th>\n",
       "      <th>До</th>\n",
       "      <th>Валюта</th>\n",
       "    </tr>\n",
       "  </thead>\n",
       "  <tbody>\n",
       "    <tr>\n",
       "      <th>0</th>\n",
       "      <td>Системный администратор</td>\n",
       "      <td>https://hh.ru/vacancy/51773794?from=vacancy_se...</td>\n",
       "      <td>150 000 – 160 000 руб.</td>\n",
       "      <td>150000</td>\n",
       "      <td>160000</td>\n",
       "      <td>руб.</td>\n",
       "    </tr>\n",
       "    <tr>\n",
       "      <th>1</th>\n",
       "      <td>Системный администратор</td>\n",
       "      <td>https://hh.ru/vacancy/52832179?from=vacancy_se...</td>\n",
       "      <td>от 60 000 руб.</td>\n",
       "      <td>60000</td>\n",
       "      <td>0</td>\n",
       "      <td>руб.</td>\n",
       "    </tr>\n",
       "    <tr>\n",
       "      <th>2</th>\n",
       "      <td>Системный администратор в поиск Яндекс</td>\n",
       "      <td>https://hh.ru/vacancy/52349868?from=vacancy_se...</td>\n",
       "      <td>до 50 000 руб.</td>\n",
       "      <td>0</td>\n",
       "      <td>50000</td>\n",
       "      <td>руб.</td>\n",
       "    </tr>\n",
       "    <tr>\n",
       "      <th>3</th>\n",
       "      <td>Системный администратор L1</td>\n",
       "      <td>https://hh.ru/vacancy/51626975?from=vacancy_se...</td>\n",
       "      <td>от 1 500 бел. руб.</td>\n",
       "      <td>1500</td>\n",
       "      <td>0</td>\n",
       "      <td>руб.</td>\n",
       "    </tr>\n",
       "    <tr>\n",
       "      <th>4</th>\n",
       "      <td>Системный администратор в поиск Яндекс</td>\n",
       "      <td>https://hh.ru/vacancy/52349869?from=vacancy_se...</td>\n",
       "      <td>до 50 000 руб.</td>\n",
       "      <td>0</td>\n",
       "      <td>50000</td>\n",
       "      <td>руб.</td>\n",
       "    </tr>\n",
       "    <tr>\n",
       "      <th>5</th>\n",
       "      <td>IT-специалист/Системный администратор</td>\n",
       "      <td>https://hh.ru/vacancy/52593175?from=vacancy_se...</td>\n",
       "      <td>90 000 – 90 000 руб.</td>\n",
       "      <td>90000</td>\n",
       "      <td>90000</td>\n",
       "      <td>руб.</td>\n",
       "    </tr>\n",
       "    <tr>\n",
       "      <th>6</th>\n",
       "      <td>Начинающий системный администратор macOS / Linux</td>\n",
       "      <td>https://hh.ru/vacancy/52605239?from=vacancy_se...</td>\n",
       "      <td>от 85 000 руб.</td>\n",
       "      <td>85000</td>\n",
       "      <td>0</td>\n",
       "      <td>руб.</td>\n",
       "    </tr>\n",
       "    <tr>\n",
       "      <th>7</th>\n",
       "      <td>Системный администратор сетей связи</td>\n",
       "      <td>https://hh.ru/vacancy/50539871?from=vacancy_se...</td>\n",
       "      <td>None</td>\n",
       "      <td>0</td>\n",
       "      <td>0</td>\n",
       "      <td>None</td>\n",
       "    </tr>\n",
       "    <tr>\n",
       "      <th>8</th>\n",
       "      <td>Системный администратор</td>\n",
       "      <td>https://hh.ru/vacancy/52595430?from=vacancy_se...</td>\n",
       "      <td>None</td>\n",
       "      <td>0</td>\n",
       "      <td>0</td>\n",
       "      <td>None</td>\n",
       "    </tr>\n",
       "    <tr>\n",
       "      <th>9</th>\n",
       "      <td>Системный администратор</td>\n",
       "      <td>https://hh.ru/vacancy/51883839?from=vacancy_se...</td>\n",
       "      <td>70 000 – 70 000 руб.</td>\n",
       "      <td>70000</td>\n",
       "      <td>70000</td>\n",
       "      <td>руб.</td>\n",
       "    </tr>\n",
       "  </tbody>\n",
       "</table>\n",
       "</div>"
      ],
      "text/plain": [
       "                                           Вакансия  \\\n",
       "0                           Системный администратор   \n",
       "1                           Системный администратор   \n",
       "2            Системный администратор в поиск Яндекс   \n",
       "3                        Системный администратор L1   \n",
       "4            Системный администратор в поиск Яндекс   \n",
       "5             IT-специалист/Системный администратор   \n",
       "6  Начинающий системный администратор macOS / Linux   \n",
       "7               Системный администратор сетей связи   \n",
       "8                           Системный администратор   \n",
       "9                           Системный администратор   \n",
       "\n",
       "                                              Ссылка                Зарплата  \\\n",
       "0  https://hh.ru/vacancy/51773794?from=vacancy_se...  150 000 – 160 000 руб.   \n",
       "1  https://hh.ru/vacancy/52832179?from=vacancy_se...          от 60 000 руб.   \n",
       "2  https://hh.ru/vacancy/52349868?from=vacancy_se...          до 50 000 руб.   \n",
       "3  https://hh.ru/vacancy/51626975?from=vacancy_se...      от 1 500 бел. руб.   \n",
       "4  https://hh.ru/vacancy/52349869?from=vacancy_se...          до 50 000 руб.   \n",
       "5  https://hh.ru/vacancy/52593175?from=vacancy_se...    90 000 – 90 000 руб.   \n",
       "6  https://hh.ru/vacancy/52605239?from=vacancy_se...          от 85 000 руб.   \n",
       "7  https://hh.ru/vacancy/50539871?from=vacancy_se...                    None   \n",
       "8  https://hh.ru/vacancy/52595430?from=vacancy_se...                    None   \n",
       "9  https://hh.ru/vacancy/51883839?from=vacancy_se...    70 000 – 70 000 руб.   \n",
       "\n",
       "       От      До Валюта  \n",
       "0  150000  160000   руб.  \n",
       "1   60000       0   руб.  \n",
       "2       0   50000   руб.  \n",
       "3    1500       0   руб.  \n",
       "4       0   50000   руб.  \n",
       "5   90000   90000   руб.  \n",
       "6   85000       0   руб.  \n",
       "7       0       0   None  \n",
       "8       0       0   None  \n",
       "9   70000   70000   руб.  "
      ]
     },
     "execution_count": 47,
     "metadata": {},
     "output_type": "execute_result"
    }
   ],
   "source": [
    "result_df.head(10)"
   ]
  },
  {
   "cell_type": "code",
   "execution_count": 48,
   "id": "9051dae7",
   "metadata": {},
   "outputs": [
    {
     "data": {
      "text/plain": [
       "'https://hh.ru/search/vacancy?search_field=name&text=%D0%A1%D0%B8%D1%81%D1%82%D0%B5%D0%BC%D0%BD%D1%8B%D0%B9+%D0%B0%D0%B4%D0%BC%D0%B8%D0%BD%D0%B8%D1%81%D1%82%D1%80%D0%B0%D1%82%D0%BE%D1%80&clusters=true&ored_clusters=true&enable_snippets=true&customDomain=1&page=39&hhtmFrom=vacancy_search_list'"
      ]
     },
     "execution_count": 48,
     "metadata": {},
     "output_type": "execute_result"
    }
   ],
   "source": [
    "response.url"
   ]
  },
  {
   "cell_type": "code",
   "execution_count": 49,
   "id": "3fad81d6",
   "metadata": {},
   "outputs": [],
   "source": [
    "params = {'search_field':'name', 'text':inp_vacancy, 'clusters':'true', 'ored_clusters':'true', 'enable_snippets':'true', 'customDomain': '1', 'hhtmFrom': 'vacancy_search_list'}\n",
    "response = requests.get(base_url + search, headers = headers, params = params)\n",
    "dom = BeautifulSoup(response.text, 'html.parser')\n",
    "pages = dom.find_all('a', {'class':\"bloko-button\"})"
   ]
  },
  {
   "cell_type": "code",
   "execution_count": 50,
   "id": "f4098e93",
   "metadata": {},
   "outputs": [
    {
     "data": {
      "text/plain": [
       "40"
      ]
     },
     "execution_count": 50,
     "metadata": {},
     "output_type": "execute_result"
    }
   ],
   "source": [
    "int(pages[-2].find('span').text)"
   ]
  }
 ],
 "metadata": {
  "kernelspec": {
   "display_name": "Python 3",
   "language": "python",
   "name": "python3"
  },
  "language_info": {
   "codemirror_mode": {
    "name": "ipython",
    "version": 3
   },
   "file_extension": ".py",
   "mimetype": "text/x-python",
   "name": "python",
   "nbconvert_exporter": "python",
   "pygments_lexer": "ipython3",
   "version": "3.8.8"
  }
 },
 "nbformat": 4,
 "nbformat_minor": 5
}
